{
 "cells": [
  {
   "cell_type": "code",
   "execution_count": 1,
   "id": "0ce0345f",
   "metadata": {},
   "outputs": [
    {
     "name": "stdout",
     "output_type": "stream",
     "text": [
      "Enter minimum string length: 5\n",
      "Enter maximum string length: 10\n",
      "How many random strings to generate? 1\n",
      "['74lzo0czf2']\n"
     ]
    }
   ],
   "source": [
    "import random\n",
    "import string\n",
    "\n",
    "def random_string(length):\n",
    "    characters = string.ascii_lowercase + string.digits\n",
    "    return ''.join(random.choice(characters) for _ in range(length))\n",
    "\n",
    "def batch_string_generator(num_strings, min_length, max_length):\n",
    "    strings = []\n",
    "    for _ in range(num_strings):\n",
    "        length = random.randint(min_length, max_length)\n",
    "        string = random_string(length)\n",
    "        strings.append(string)\n",
    "    return strings\n",
    "\n",
    "def main():\n",
    "    min_length = int(input('Enter minimum string length: '))\n",
    "    max_length = int(input('Enter maximum string length: '))\n",
    "    num_strings = int(input('How many random strings to generate? '))\n",
    "\n",
    "    strings = batch_string_generator(num_strings, min_length, max_length)\n",
    "    print(strings)\n",
    "\n",
    "if __name__ == '__main__':\n",
    "    main()"
   ]
  },
  {
   "cell_type": "code",
   "execution_count": null,
   "id": "bb70fb2e",
   "metadata": {},
   "outputs": [],
   "source": []
  }
 ],
 "metadata": {
  "kernelspec": {
   "display_name": "Python [conda env:m1_env]",
   "language": "python",
   "name": "conda-env-m1_env-py"
  },
  "language_info": {
   "codemirror_mode": {
    "name": "ipython",
    "version": 3
   },
   "file_extension": ".py",
   "mimetype": "text/x-python",
   "name": "python",
   "nbconvert_exporter": "python",
   "pygments_lexer": "ipython3",
   "version": "3.9.16"
  }
 },
 "nbformat": 4,
 "nbformat_minor": 5
}
