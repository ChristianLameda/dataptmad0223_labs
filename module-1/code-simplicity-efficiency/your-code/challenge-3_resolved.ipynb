{
 "cells": [
  {
   "cell_type": "code",
   "execution_count": 1,
   "id": "eec3b5e5",
   "metadata": {},
   "outputs": [
    {
     "name": "stdout",
     "output_type": "stream",
     "text": [
      "What is the maximal length of the triangle side? Enter a number: 5\n",
      "The longest side possible is 0\n"
     ]
    }
   ],
   "source": [
    "def find_longest_side(X):\n",
    "    solutions = []\n",
    "    for x in range(5, X):\n",
    "        for y in range(4, X):\n",
    "            for z in range(3, X):\n",
    "                if x * x == y * y + z * z:\n",
    "                    solutions.append([x, y, z])\n",
    "    longest_side = 0\n",
    "    for solution in solutions:\n",
    "        longest_side = max(longest_side, max(solution))\n",
    "    return longest_side\n",
    "\n",
    "def main():\n",
    "    X = int(input(\"What is the maximal length of the triangle side? Enter a number: \"))\n",
    "    longest_side = find_longest_side(X)\n",
    "    print(\"The longest side possible is \" + str(longest_side))\n",
    "\n",
    "if __name__ == \"__main__\":\n",
    "    main()"
   ]
  }
 ],
 "metadata": {
  "kernelspec": {
   "display_name": "Python [conda env:m1_env]",
   "language": "python",
   "name": "conda-env-m1_env-py"
  },
  "language_info": {
   "codemirror_mode": {
    "name": "ipython",
    "version": 3
   },
   "file_extension": ".py",
   "mimetype": "text/x-python",
   "name": "python",
   "nbconvert_exporter": "python",
   "pygments_lexer": "ipython3",
   "version": "3.9.16"
  }
 },
 "nbformat": 4,
 "nbformat_minor": 5
}
