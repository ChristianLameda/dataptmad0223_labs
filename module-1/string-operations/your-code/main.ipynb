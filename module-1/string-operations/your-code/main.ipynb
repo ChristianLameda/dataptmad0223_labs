{
 "cells": [
  {
   "cell_type": "markdown",
   "metadata": {},
   "source": [
    "# Before your start:\n",
    "- Read the README.md file\n",
    "- Comment as much as you can and use the resources in the README.md file\n",
    "- Happy learning!"
   ]
  },
  {
   "cell_type": "code",
   "execution_count": 1,
   "metadata": {},
   "outputs": [],
   "source": [
    "import re"
   ]
  },
  {
   "cell_type": "markdown",
   "metadata": {},
   "source": [
    "# Challenge 1 - Combining Strings\n",
    "\n",
    "Combining strings is an important skill to acquire. There are multiple ways of combining strings in Python, as well as combining strings with variables. We will explore this in the first challenge. In the cell below, combine the strings in the list and add spaces between the strings (do not add a space after the last string). Insert a period after the last string."
   ]
  },
  {
   "cell_type": "code",
   "execution_count": 69,
   "metadata": {},
   "outputs": [
    {
     "data": {
      "text/plain": [
       "'Durante un tiempo no estuvo segura de si su marido era su marido.'"
      ]
     },
     "execution_count": 69,
     "metadata": {},
     "output_type": "execute_result"
    }
   ],
   "source": [
    "str_list = ['Durante', 'un', 'tiempo', 'no', 'estuvo', 'segura', 'de', 'si', 'su', 'marido', 'era', 'su', 'marido']\n",
    "\n",
    "\" \".join(str_list)+'.'"
   ]
  },
  {
   "cell_type": "markdown",
   "metadata": {},
   "source": [
    "In the cell below, use the list of strings to create a grocery list. Start the list with the string `Grocery list: ` and include a comma and a space between each item except for the last one. Include a period at the end. Only include foods in the list that start with the letter 'b' and ensure all foods are lower case."
   ]
  },
  {
   "cell_type": "code",
   "execution_count": 3,
   "metadata": {},
   "outputs": [
    {
     "data": {
      "text/plain": [
       "'Grocery list: bananas, bread, brownie, broccoli,'"
      ]
     },
     "execution_count": 3,
     "metadata": {},
     "output_type": "execute_result"
    }
   ],
   "source": [
    "food_list = ['Bananas', 'Chocolate', 'bread', 'diapers', 'Ice Cream', 'Brownie Mix', 'broccoli']\n",
    "\n",
    "f1 = (' '.join(food_list) + '.')\n",
    "f2 = f1.lower()\n",
    "f3 = re.findall(r\"\\b[b]\\w+\", f2)\n",
    "f4 = \"Grocery list: \" + \", \".join(f3) + ','\n",
    "f5 = f3.insert(0,\"Grocery list: \")\n",
    "f4"
   ]
  },
  {
   "cell_type": "markdown",
   "metadata": {},
   "source": [
    "In the cell below, write a function that computes the area of a circle using its radius. Compute the area of the circle and insert the radius and the area between the two strings. Make sure to include spaces between the variable and the strings. \n",
    "\n",
    "Note: You can use the techniques we have learned so far or use f-strings. F-strings allow us to embed code inside strings. You can read more about f-strings [here](https://www.python.org/dev/peps/pep-0498/)."
   ]
  },
  {
   "cell_type": "code",
   "execution_count": 376,
   "metadata": {},
   "outputs": [
    {
     "data": {
      "text/plain": [
       "'The area of the circle with radius: 4.5 is: 63.61725123519331'"
      ]
     },
     "execution_count": 376,
     "metadata": {},
     "output_type": "execute_result"
    }
   ],
   "source": [
    "import math\n",
    "\n",
    "string1 = \"The area of the circle with radius:\"\n",
    "string2  = \"is:\"\n",
    "radius = 4.5\n",
    "\n",
    "def area(x, pi = math.pi):\n",
    "    #\"\"\"\n",
    "    #This function takes a radius and returns the area of a circle. \n",
    "    #We also pass a default value for pi.\n",
    "    \n",
    "   # Input: Float (and default value for pi)\n",
    "    #Output: Float\n",
    "    \n",
    "    #Sample input: 5.0\n",
    "    #Sample Output: 78.53981633\n",
    "    #\"\"\"\n",
    "    \n",
    "    # Your code here:\n",
    "    return pi * (x ** 2)\n",
    "\n",
    "a = area(radius)\n",
    "\n",
    "# Your output string here:\n",
    "\n",
    "f'{string1} {radius} {string2} {area(radius)}'"
   ]
  },
  {
   "cell_type": "markdown",
   "metadata": {},
   "source": [
    "# Challenge 2 - Splitting Strings\n",
    "\n",
    "We have first looked at combining strings into one long string. There are times where we need to do the opposite and split the string into smaller components for further analysis. \n",
    "\n",
    "In the cell below, split the string into a list of strings using the space delimiter. Count the frequency of each word in the string in a dictionary. Strip the periods, line breaks and commas from the text. Make sure to remove empty strings from your dictionary."
   ]
  },
  {
   "cell_type": "code",
   "execution_count": 386,
   "metadata": {},
   "outputs": [
    {
     "data": {
      "text/plain": [
       "{'S': 2,\n",
       " 'o': 18,\n",
       " 'm': 3,\n",
       " 'e': 20,\n",
       " 's': 11,\n",
       " 'a': 11,\n",
       " 'y': 3,\n",
       " 't': 17,\n",
       " 'h': 12,\n",
       " 'w': 8,\n",
       " 'r': 10,\n",
       " 'l': 6,\n",
       " 'd': 9,\n",
       " 'i': 16,\n",
       " 'n': 8,\n",
       " 'f': 9,\n",
       " 'c': 5,\n",
       " 'F': 1,\n",
       " 'I': 5,\n",
       " 'v': 2,\n",
       " 'B': 1,\n",
       " 'u': 5,\n",
       " 'p': 1,\n",
       " 'k': 2,\n",
       " 'g': 2,\n",
       " 'T': 1,\n",
       " 'A': 1}"
      ]
     },
     "execution_count": 386,
     "metadata": {},
     "output_type": "execute_result"
    }
   ],
   "source": [
    "poem = \"\"\"Some say the world will end in fire,\n",
    "Some say in ice.\n",
    "From what I’ve tasted of desire\n",
    "I hold with those who favor fire.\n",
    "But if it had to perish twice,\n",
    "I think I know enough of hate\n",
    "To say that for destruction ice\n",
    "Is also great\n",
    "And would suffice.\"\"\"\n",
    "\n",
    "# Your code here:\n",
    "\n",
    "poem2 = str(poem.split(' '))\n",
    "\n",
    "poem_dict = {}\n",
    "\n",
    "for i in poem:\n",
    "    if i in poem_dict:\n",
    "        poem_dict[i] += 1\n",
    "    else:\n",
    "        poem_dict[i] = 1\n",
    "\n",
    "poem_remove = [',','’','.','\\n',' ']\n",
    "\n",
    "for key in poem_remove:\n",
    "    if key in poem_dict:\n",
    "        del poem_dict[key]\n",
    "poem_dict"
   ]
  },
  {
   "cell_type": "markdown",
   "metadata": {},
   "source": [
    "In the cell below, find all the words that appear in the text and do not appear in the blacklist. You must parse the string but can choose any data structure you wish for the words that do not appear in the blacklist. Remove all non letter characters and convert all words to lower case."
   ]
  },
  {
   "cell_type": "code",
   "execution_count": 168,
   "metadata": {},
   "outputs": [
    {
     "name": "stdout",
     "output_type": "stream",
     "text": [
      "i\n",
      "was\n",
      "angry\n",
      "with\n",
      "my\n",
      "friend\n",
      "i\n",
      "told\n",
      "my\n",
      "wrath\n",
      "my\n",
      "wrath\n",
      "did\n",
      "end\n",
      "i\n",
      "was\n",
      "angry\n",
      "with\n",
      "my\n",
      "foe\n",
      "i\n",
      "told\n",
      "not\n",
      "my\n",
      "wrath\n",
      "did\n",
      "grow\n",
      "i\n",
      "waterd\n",
      "fears\n",
      "night\n",
      "morning\n",
      "with\n",
      "my\n",
      "tears\n",
      "i\n",
      "sunned\n",
      "with\n",
      "smiles\n",
      "with\n",
      "soft\n",
      "deceitful\n",
      "wiles\n",
      "grew\n",
      "both\n",
      "day\n",
      "night\n",
      "till\n",
      "bore\n",
      "apple\n",
      "bright\n",
      "my\n",
      "foe\n",
      "beheld\n",
      "shine\n",
      "he\n",
      "knew\n",
      "that\n",
      "was\n",
      "mine\n",
      "into\n",
      "my\n",
      "garden\n",
      "stole\n",
      "when\n",
      "night\n",
      "had\n",
      "veild\n",
      "pole\n",
      "morning\n",
      "glad\n",
      "i\n",
      "see\n",
      "my\n",
      "foe\n",
      "outstretched\n",
      "beneath\n",
      "tree\n"
     ]
    }
   ],
   "source": [
    "blacklist = ['and', 'as', 'an', 'a', 'the', 'in', 'it']\n",
    "\n",
    "poem = \"\"\"I was angry with my friend; \n",
    "I told my wrath, my wrath did end.\n",
    "I was angry with my foe: \n",
    "I told it not, my wrath did grow. \n",
    "\n",
    "And I waterd it in fears,\n",
    "Night & morning with my tears: \n",
    "And I sunned it with smiles,\n",
    "And with soft deceitful wiles. \n",
    "\n",
    "And it grew both day and night. \n",
    "Till it bore an apple bright. \n",
    "And my foe beheld it shine,\n",
    "And he knew that it was mine. \n",
    "\n",
    "And into my garden stole, \n",
    "When the night had veild the pole; \n",
    "In the morning glad I see; \n",
    "My foe outstretched beneath the tree.\"\"\"\n",
    "\n",
    "# Your code here:\n",
    "#print(poem_list)\n",
    "poem_list = poem.lower()\n",
    "poem_list2 = re.findall(r\"\\w*\\S\\b\", poem_list)\n",
    "#poem_list3 = []\n",
    "for words in poem_list2:\n",
    "    if words not in blacklist:\n",
    "        print(words)"
   ]
  },
  {
   "cell_type": "markdown",
   "metadata": {},
   "source": [
    "# Challenge 3 - Regular Expressions\n",
    "\n",
    "Sometimes, we would like to perform more complex manipulations of our string. This is where regular expressions come in handy. In the cell below, return all characters that are upper case from the string specified below."
   ]
  },
  {
   "cell_type": "code",
   "execution_count": 368,
   "metadata": {},
   "outputs": [
    {
     "data": {
      "text/plain": [
       "['T', 'P']"
      ]
     },
     "execution_count": 368,
     "metadata": {},
     "output_type": "execute_result"
    }
   ],
   "source": [
    "poem = \"\"\"The apparition of these faces in the crowd;\n",
    "Petals on a wet, black bough.\"\"\"\n",
    "\n",
    "re.findall(r\"[A-Z]\", poem)"
   ]
  },
  {
   "cell_type": "markdown",
   "metadata": {},
   "source": [
    "In the cell below, filter the list provided and return all elements of the list containing a number. To filter the list, use the `re.search` function. Check if the function does not return `None`. You can read more about the `re.search` function [here](https://docs.python.org/3/library/re.html)."
   ]
  },
  {
   "cell_type": "code",
   "execution_count": 372,
   "metadata": {},
   "outputs": [
    {
     "data": {
      "text/plain": [
       "['123abc', 'abc123', 'JohnSmith1', 'ABBY4']"
      ]
     },
     "execution_count": 372,
     "metadata": {},
     "output_type": "execute_result"
    }
   ],
   "source": [
    "data = ['123abc', 'abc123', 'JohnSmith1', 'ABBY4', 'JANE']\n",
    "\n",
    "x = ' '.join(data)\n",
    "y = [x for x in data if re.search('\\d', x) is not None]\n",
    "y"
   ]
  },
  {
   "cell_type": "markdown",
   "metadata": {},
   "source": [
    "# Bonus Challenge - Regular Expressions II\n",
    "\n",
    "In the cell below, filter the list provided to keep only strings containing at least one digit and at least one lower case letter. As in the previous question, use the `re.search` function and check that the result is not `None`.\n",
    "\n",
    "To read more about regular expressions, check out [this link](https://developers.google.com/edu/python/regular-expressions)."
   ]
  },
  {
   "cell_type": "code",
   "execution_count": 240,
   "metadata": {},
   "outputs": [
    {
     "data": {
      "text/plain": [
       "<re.Match object; span=(0, 30), match='123abc abc123 JohnSmith1 ABBY4'>"
      ]
     },
     "execution_count": 240,
     "metadata": {},
     "output_type": "execute_result"
    }
   ],
   "source": [
    "data = ['123abc', 'abc123', 'JohnSmith1', 'ABBY4', 'JANE']\n",
    "\n",
    "x2 = ' '.join(data)\n",
    "re.search(r'\\w*\\d*\\s*\\w*\\d*\\s\\w*\\d*\\s*\\w*',x2)"
   ]
  }
 ],
 "metadata": {
  "kernelspec": {
   "display_name": "Python [conda env:m1_env]",
   "language": "python",
   "name": "conda-env-m1_env-py"
  },
  "language_info": {
   "codemirror_mode": {
    "name": "ipython",
    "version": 3
   },
   "file_extension": ".py",
   "mimetype": "text/x-python",
   "name": "python",
   "nbconvert_exporter": "python",
   "pygments_lexer": "ipython3",
   "version": "3.9.16"
  }
 },
 "nbformat": 4,
 "nbformat_minor": 2
}
